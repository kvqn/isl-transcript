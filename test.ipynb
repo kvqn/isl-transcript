{
 "cells": [
  {
   "cell_type": "code",
   "execution_count": 5,
   "metadata": {},
   "outputs": [
    {
     "name": "stdout",
     "output_type": "stream",
     "text": [
      "Found 7200 files belonging to 36 classes.\n",
      "Using 5760 files for training.\n",
      "Found 7200 files belonging to 36 classes.\n",
      "Using 1440 files for validation.\n"
     ]
    }
   ],
   "source": [
    "import os\n",
    "from tensorflow import keras\n",
    "from model.util import ask_bool_question\n",
    "from model import DATASET_PATH_ISL_MAIN, CLASS_NAMES, LANDMARKS_PATH\n",
    "import pandas as pd\n",
    "import numpy as np\n",
    "import tensorflow as tf\n",
    "import random\n",
    "\n",
    "layers = keras.layers\n",
    "\n",
    "\n",
    "TRAIN_DATASET = os.path.join(DATASET_PATH_ISL_MAIN, \"train\")\n",
    "\n",
    "LOG_DIR = \"logs\"\n",
    "\n",
    "data_train = keras.utils.image_dataset_from_directory(\n",
    "    TRAIN_DATASET,\n",
    "    subset=\"training\",\n",
    "    seed=69,\n",
    "    class_names=CLASS_NAMES,\n",
    "    label_mode=\"categorical\",\n",
    "    validation_split=0.2,\n",
    ")\n",
    "\n",
    "data_validation = keras.utils.image_dataset_from_directory(\n",
    "    TRAIN_DATASET,\n",
    "    subset=\"validation\",\n",
    "    seed=69,\n",
    "    class_names=CLASS_NAMES,\n",
    "    label_mode=\"categorical\",\n",
    "    validation_split=0.2,\n",
    ")"
   ]
  },
  {
   "cell_type": "code",
   "execution_count": 4,
   "metadata": {},
   "outputs": [
    {
     "name": "stdout",
     "output_type": "stream",
     "text": [
      "Epoch 1/10\n",
      "180/180 [==============================] - 46s 256ms/step - loss: 10.0813 - accuracy: 0.6181 - val_loss: 0.9697 - val_accuracy: 0.7722\n",
      "Epoch 2/10\n",
      "180/180 [==============================] - 46s 254ms/step - loss: 0.5919 - accuracy: 0.8543 - val_loss: 0.9537 - val_accuracy: 0.8139\n",
      "Epoch 3/10\n",
      "180/180 [==============================] - 46s 254ms/step - loss: 0.4102 - accuracy: 0.9066 - val_loss: 1.2106 - val_accuracy: 0.8035\n",
      "Epoch 4/10\n",
      "180/180 [==============================] - 47s 258ms/step - loss: 0.3469 - accuracy: 0.9231 - val_loss: 1.8398 - val_accuracy: 0.8104\n",
      "Epoch 5/10\n",
      "180/180 [==============================] - 46s 257ms/step - loss: 0.2570 - accuracy: 0.9443 - val_loss: 1.5514 - val_accuracy: 0.8007\n",
      "Epoch 6/10\n",
      "180/180 [==============================] - 46s 258ms/step - loss: 0.2798 - accuracy: 0.9495 - val_loss: 1.9654 - val_accuracy: 0.8000\n",
      "Epoch 7/10\n",
      "180/180 [==============================] - 46s 253ms/step - loss: 0.2667 - accuracy: 0.9486 - val_loss: 1.3597 - val_accuracy: 0.7549\n",
      "Epoch 8/10\n",
      "180/180 [==============================] - 46s 256ms/step - loss: 0.1670 - accuracy: 0.9668 - val_loss: 1.7881 - val_accuracy: 0.8000\n",
      "Epoch 9/10\n",
      "180/180 [==============================] - 46s 258ms/step - loss: 0.1376 - accuracy: 0.9762 - val_loss: 3.2151 - val_accuracy: 0.8049\n",
      "Epoch 10/10\n",
      "180/180 [==============================] - 47s 261ms/step - loss: 0.1356 - accuracy: 0.9781 - val_loss: 2.4741 - val_accuracy: 0.8222\n",
      "Model saved at model.keras\n"
     ]
    }
   ],
   "source": [
    "model = keras.Sequential()\n",
    "model.add(layers.Conv2D(16, (4, 4), activation=\"relu\", input_shape=(256, 256, 3)))\n",
    "model.add(layers.MaxPooling2D())\n",
    "model.add(layers.Conv2D(8, (4, 4), activation=\"relu\"))\n",
    "model.add(layers.Flatten())\n",
    "model.add(layers.Dense(128, activation=\"relu\"))\n",
    "model.add(layers.Dense(len(CLASS_NAMES), activation=\"softmax\"))\n",
    "\n",
    "model.compile(\"adam\", loss=\"categorical_crossentropy\", metrics=[\"accuracy\"])\n",
    "\n",
    "tensorboard_callback = keras.callbacks.TensorBoard(log_dir=LOG_DIR)\n",
    "\n",
    "model.fit(\n",
    "    data_train,\n",
    "    epochs=10,\n",
    "    callbacks=[tensorboard_callback],\n",
    "    validation_data=data_validation,\n",
    ")\n",
    "\n",
    "model_path = \"model.keras\"\n",
    "\n",
    "model.save(model_path)\n",
    "\n",
    "print(f\"Model saved at {model_path}\")"
   ]
  }
 ],
 "metadata": {
  "kernelspec": {
   "display_name": "isl-transcript-xrvn",
   "language": "python",
   "name": "python3"
  },
  "language_info": {
   "codemirror_mode": {
    "name": "ipython",
    "version": 3
   },
   "file_extension": ".py",
   "mimetype": "text/x-python",
   "name": "python",
   "nbconvert_exporter": "python",
   "pygments_lexer": "ipython3",
   "version": "3.9.13"
  }
 },
 "nbformat": 4,
 "nbformat_minor": 2
}
